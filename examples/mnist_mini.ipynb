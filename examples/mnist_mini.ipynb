{
 "cells": [
  {
   "cell_type": "code",
   "execution_count": 1,
   "metadata": {},
   "outputs": [],
   "source": [
    "import numpy as np\n",
    "import matplotlib.pyplot as plt\n",
    "\n",
    "from fastNeuron.network import neural_network\n",
    "from fastNeuron.layers import Dense\n",
    "import fastNeuron.Activation_funcs as activations\n",
    "import fastNeuron.Optimizers as Optimizers\n",
    "from sklearn.model_selection import train_test_split\n",
    "import fastNeuron.loss_funcs as losses\n"
   ]
  },
  {
   "cell_type": "markdown",
   "metadata": {},
   "source": [
    "## Data PreProcessing\n",
    "\n",
    "#### we only want 2 classes at the beginning\n",
    "#### lets take 0 and 1 and see if our model can learn how to distinguish between both"
   ]
  },
  {
   "cell_type": "code",
   "execution_count": 2,
   "metadata": {},
   "outputs": [],
   "source": [
    "def preprocess():\n",
    "\n",
    "\n",
    "    import tensorflow_datasets as tfds\n",
    "    # load the mnist dataset\n",
    "    ds,info = tfds.load(name='mnist',split='train',with_info=True)\n",
    "    images = []\n",
    "    labels = []\n",
    "    for ex in tfds.as_numpy(ds):\n",
    "        np_image,np_label = ex['image'],ex['label']\n",
    "        images.append(np_image)\n",
    "        labels.append(np_label)\n",
    "    # change the labels to be one hot encoding\n",
    "    from tensorflow.keras.utils import to_categorical\n",
    "    one_hot_labels = to_categorical(labels)\n",
    "    # make images a numpy array\n",
    "    images = np.array(images)\n",
    "\n",
    "    return images , one_hot_labels\n",
    "\n",
    "\n"
   ]
  },
  {
   "cell_type": "code",
   "execution_count": 3,
   "metadata": {},
   "outputs": [
    {
     "name": "stderr",
     "output_type": "stream",
     "text": [
      "/Users/enesbayram/Documents/fastNeuron/examples/example/lib/python3.11/site-packages/tqdm/auto.py:21: TqdmWarning: IProgress not found. Please update jupyter and ipywidgets. See https://ipywidgets.readthedocs.io/en/stable/user_install.html\n",
      "  from .autonotebook import tqdm as notebook_tqdm\n"
     ]
    }
   ],
   "source": [
    "IMAGES , LABELS = preprocess()"
   ]
  },
  {
   "cell_type": "code",
   "execution_count": 4,
   "metadata": {},
   "outputs": [],
   "source": [
    "# get the indices of 0 and 1 \n",
    "zeros = np.where(LABELS[:,0] == 1)\n",
    "ones = np.where(LABELS[:,1] == 1)"
   ]
  },
  {
   "cell_type": "code",
   "execution_count": 5,
   "metadata": {},
   "outputs": [],
   "source": [
    "# only take images at these indices\n",
    "zeros_images = IMAGES[zeros]\n",
    "ones_images = IMAGES[ones]\n",
    "zeros_labels = LABELS[zeros]\n",
    "ones_labels = LABELS[ones]"
   ]
  },
  {
   "cell_type": "code",
   "execution_count": 6,
   "metadata": {},
   "outputs": [],
   "source": [
    "reduced_images = np.concatenate((zeros_images,ones_images),axis=0)\n",
    "reduced_labels = np.concatenate((zeros_labels,ones_labels),axis=0)\n",
    "reduced_labels = np.concatenate((reduced_labels[:,0].reshape(-1,1),reduced_labels[:,1].reshape(-1,1)),axis=1)"
   ]
  },
  {
   "cell_type": "code",
   "execution_count": 7,
   "metadata": {},
   "outputs": [],
   "source": [
    "# shuffle images and labels in unison\n",
    "shuffler = np.arange(reduced_images.shape[0])\n",
    "np.random.shuffle(shuffler)\n",
    "reduced_images = reduced_images[shuffler]\n",
    "reduced_labels = reduced_labels[shuffler]"
   ]
  },
  {
   "cell_type": "code",
   "execution_count": 8,
   "metadata": {},
   "outputs": [],
   "source": [
    "flattened_normalized = []\n",
    "# flatten images\n",
    "for image in reduced_images:\n",
    "\n",
    "    flattened_normalized.append((image.flatten()/255))\n",
    "    \n",
    "flattened = np.array(flattened_normalized)"
   ]
  },
  {
   "cell_type": "markdown",
   "metadata": {},
   "source": [
    "## Now that our dataset is ready we will create a neural network to give it the images"
   ]
  },
  {
   "cell_type": "code",
   "execution_count": 9,
   "metadata": {},
   "outputs": [],
   "source": [
    "model = neural_network()\n",
    "\n",
    "model = model.sequential(\n",
    "    [\n",
    "        Dense(reduced_images.shape[1] * reduced_images.shape[2],20,activations.relu()),\n",
    "        Dense(20,20,activations.relu()),\n",
    "        Dense(20,reduced_labels.shape[1],activations.softmax())\n",
    "    ]\n",
    ")"
   ]
  },
  {
   "cell_type": "code",
   "execution_count": 10,
   "metadata": {},
   "outputs": [
    {
     "data": {
      "text/plain": [
       "<fastNeuron.network.neural_network at 0x2906ce350>"
      ]
     },
     "execution_count": 10,
     "metadata": {},
     "output_type": "execute_result"
    }
   ],
   "source": [
    "model.compile(\n",
    "    optimizer=Optimizers.MiniBatchGradientDescent(),\n",
    "    Cost=losses.CategoricalCrossEntropy()\n",
    ")"
   ]
  },
  {
   "cell_type": "code",
   "execution_count": 11,
   "metadata": {},
   "outputs": [
    {
     "name": "stdout",
     "output_type": "stream",
     "text": [
      "Summary of the neural network\n",
      "\n",
      "--------------------------------------------------\n",
      "\n",
      "layer with 20 units, 784 inputs and ReLU activation function\n",
      "\n",
      "--------------------------------------------------\n",
      "\n",
      "layer with 20 units, 20 inputs and ReLU activation function\n",
      "\n",
      "--------------------------------------------------\n",
      "\n",
      "layer with 2 units, 20 inputs and Softmax activation function\n",
      "\n",
      "--------------------------------------------------\n",
      "\n",
      "input size : 784\n",
      "output size : 2\n",
      "optimizer : Mini-Batch Gradient Descent\n",
      "cost function : Categorical Cross Entropy\n"
     ]
    },
    {
     "data": {
      "text/plain": [
       "<fastNeuron.network.neural_network at 0x2906ce350>"
      ]
     },
     "execution_count": 11,
     "metadata": {},
     "output_type": "execute_result"
    }
   ],
   "source": [
    "model.summary()"
   ]
  },
  {
   "cell_type": "code",
   "execution_count": 12,
   "metadata": {},
   "outputs": [
    {
     "name": "stdout",
     "output_type": "stream",
     "text": [
      "0 cost : 980.7635126693671 accuracy : 99.67%\n",
      "10 cost : 91.8459264233489 accuracy : 99.79%\n",
      "20 cost : 64.1878635365035 accuracy : 99.87%\n",
      "30 cost : 51.79274954364523 accuracy : 99.88%\n",
      "40 cost : 44.044049998862285 accuracy : 99.9%\n",
      "50 cost : 38.55739782422713 accuracy : 99.91%\n",
      "60 cost : 34.36730041465491 accuracy : 99.92%\n",
      "70 cost : 30.931895274064107 accuracy : 99.93%\n",
      "80 cost : 27.996443627151372 accuracy : 99.93%\n",
      "90 cost : 25.45460437913272 accuracy : 99.93%\n",
      " cost : 23.426526613514692 accuracy : 99.93%\n"
     ]
    }
   ],
   "source": [
    "model,costs = model.fit(flattened,reduced_labels,learning_rate=0.0001,epochs=100)\n",
    "\n",
    "\n"
   ]
  },
  {
   "cell_type": "code",
   "execution_count": 13,
   "metadata": {},
   "outputs": [
    {
     "data": {
      "text/plain": [
       "[<matplotlib.lines.Line2D at 0x290687410>]"
      ]
     },
     "execution_count": 13,
     "metadata": {},
     "output_type": "execute_result"
    },
    {
     "data": {
      "image/png": "[encoded data removed]",
      "text/plain": [
       "<Figure size 640x480 with 1 Axes>"
      ]
     },
     "metadata": {},
     "output_type": "display_data"
    }
   ],
   "source": [
    "plt.plot(costs)"
   ]
  },
  {
   "cell_type": "code",
   "execution_count": 14,
   "metadata": {},
   "outputs": [],
   "source": [
    "predictions = model.predict(flattened)"
   ]
  },
  {
   "cell_type": "code",
   "execution_count": 15,
   "metadata": {},
   "outputs": [
    {
     "name": "stdout",
     "output_type": "stream",
     "text": [
      "accuracy : 99.93%\n"
     ]
    }
   ],
   "source": [
    "accuracy = (np.sum((predictions[:,0] == reduced_labels[:,0]).astype(int)) / reduced_labels.shape[0]) * 100\n",
    "print(f\"accuracy : {accuracy:.2f}%\")"
   ]
  },
  {
   "cell_type": "markdown",
   "metadata": {},
   "source": [
    "## see which images did the model predict incorrectly"
   ]
  },
  {
   "cell_type": "code",
   "execution_count": 16,
   "metadata": {},
   "outputs": [],
   "source": [
    "# get the indices of the wrong predictions\n",
    "wrong_indices = np.where(predictions[:,0] != reduced_labels[:,0])[0]"
   ]
  },
  {
   "cell_type": "code",
   "execution_count": 17,
   "metadata": {},
   "outputs": [],
   "source": [
    "# get the labels and images of the wrong ones\n",
    "wrong_images = reduced_images[wrong_indices]\n",
    "wrong_labels = reduced_labels[wrong_indices]\n"
   ]
  },
  {
   "cell_type": "code",
   "execution_count": 18,
   "metadata": {},
   "outputs": [
    {
     "data": {
      "image/png": "[encoded data removed]",
      "text/plain": [
       "<Figure size 2000x2000 with 9 Axes>"
      ]
     },
     "metadata": {},
     "output_type": "display_data"
    }
   ],
   "source": [
    "# we will plot each 3 images in a row\n",
    "\n",
    "# determine how many rows and columns we need\n",
    "rows = 3\n",
    "columns = np.ceil(wrong_indices.shape[0]/rows).astype(int)\n",
    "\n",
    "\n",
    "fig, axes = plt.subplots(rows, columns, figsize=(20, 20))\n",
    "index = 0\n",
    "for row in range(rows):\n",
    "    for col in range(columns):\n",
    "        if index == wrong_indices.shape[0]:\n",
    "            break\n",
    "        axes[row, col].imshow(wrong_images[index],cmap=\"gray\")\n",
    "        axes[row, col].set_title(f\"prediction: {(predictions[wrong_indices[index]][0] != 1).astype(int)} label: {(wrong_labels[index][0] != 1).astype(int)}\")\n",
    "        axes[row, col].axis('off')\n",
    "        index += 1"
   ]
  }
 ],
 "metadata": {
  "kernelspec": {
   "display_name": "neural-net",
   "language": "python",
   "name": "python3"
  },
  "language_info": {
   "codemirror_mode": {
    "name": "ipython",
    "version": 3
   },
   "file_extension": ".py",
   "mimetype": "text/x-python",
   "name": "python",
   "nbconvert_exporter": "python",
   "pygments_lexer": "ipython3",
   "version": "3.11.6"
  }
 },
 "nbformat": 4,
 "nbformat_minor": 2
}
