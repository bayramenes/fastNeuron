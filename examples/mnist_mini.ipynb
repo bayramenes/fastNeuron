{
 "cells": [
  {
   "cell_type": "code",
   "execution_count": 1,
   "metadata": {},
   "outputs": [],
   "source": [
    "import numpy as np\n",
    "import matplotlib.pyplot as plt\n",
    "\n",
    "from network import neural_network\n",
    "from layers import Dense\n",
    "import Activation_funcs as activations\n",
    "import Optimizers\n",
    "from sklearn.model_selection import train_test_split\n",
    "import loss_funcs as losses\n"
   ]
  },
  {
   "cell_type": "markdown",
   "metadata": {},
   "source": [
    "## Data PreProcessing\n",
    "\n",
    "#### we only want 2 classes at the beginning\n",
    "#### lets take 0 and 1 and see if our model can learn how to distinguish between both"
   ]
  },
  {
   "cell_type": "code",
   "execution_count": 2,
   "metadata": {},
   "outputs": [],
   "source": [
    "def preprocess():\n",
    "\n",
    "\n",
    "    import tensorflow_datasets as tfds\n",
    "    # load the mnist dataset\n",
    "    ds,info = tfds.load(name='mnist',split='train',with_info=True)\n",
    "    images = []\n",
    "    labels = []\n",
    "    for ex in tfds.as_numpy(ds):\n",
    "        np_image,np_label = ex['image'],ex['label']\n",
    "        images.append(np_image)\n",
    "        labels.append(np_label)\n",
    "    # change the labels to be one hot encoding\n",
    "    from tensorflow.keras.utils import to_categorical\n",
    "    one_hot_labels = to_categorical(labels)\n",
    "    # make images a numpy array\n",
    "    images = np.array(images)\n",
    "\n",
    "    return images , one_hot_labels\n",
    "\n",
    "\n"
   ]
  },
  {
   "cell_type": "code",
   "execution_count": 3,
   "metadata": {},
   "outputs": [
    {
     "name": "stderr",
     "output_type": "stream",
     "text": [
      "/Users/enesbayram/Documents/nn/neural-net/lib/python3.11/site-packages/tqdm/auto.py:21: TqdmWarning: IProgress not found. Please update jupyter and ipywidgets. See https://ipywidgets.readthedocs.io/en/stable/user_install.html\n",
      "  from .autonotebook import tqdm as notebook_tqdm\n"
     ]
    }
   ],
   "source": [
    "IMAGES , LABELS = preprocess()"
   ]
  },
  {
   "cell_type": "code",
   "execution_count": 4,
   "metadata": {},
   "outputs": [],
   "source": [
    "# get the indices of 0 and 1 \n",
    "zeros = np.where(LABELS[:,0] == 1)\n",
    "ones = np.where(LABELS[:,1] == 1)"
   ]
  },
  {
   "cell_type": "code",
   "execution_count": 5,
   "metadata": {},
   "outputs": [],
   "source": [
    "# only take images at these indices\n",
    "zeros_images = IMAGES[zeros]\n",
    "ones_images = IMAGES[ones]\n",
    "zeros_labels = LABELS[zeros]\n",
    "ones_labels = LABELS[ones]"
   ]
  },
  {
   "cell_type": "code",
   "execution_count": 6,
   "metadata": {},
   "outputs": [],
   "source": [
    "reduced_images = np.concatenate((zeros_images,ones_images),axis=0)\n",
    "reduced_labels = np.concatenate((zeros_labels,ones_labels),axis=0)\n",
    "reduced_labels = np.concatenate((reduced_labels[:,0].reshape(-1,1),reduced_labels[:,1].reshape(-1,1)),axis=1)"
   ]
  },
  {
   "cell_type": "code",
   "execution_count": 7,
   "metadata": {},
   "outputs": [],
   "source": [
    "# shuffle images and labels in unison\n",
    "shuffler = np.arange(reduced_images.shape[0])\n",
    "np.random.shuffle(shuffler)\n",
    "reduced_images = reduced_images[shuffler]\n",
    "reduced_labels = reduced_labels[shuffler]"
   ]
  },
  {
   "cell_type": "code",
   "execution_count": 8,
   "metadata": {},
   "outputs": [],
   "source": [
    "flattened_normalized = []\n",
    "# flatten images\n",
    "for image in reduced_images:\n",
    "\n",
    "    flattened_normalized.append((image.flatten()/255))\n",
    "    \n",
    "flattened = np.array(flattened_normalized)"
   ]
  },
  {
   "cell_type": "markdown",
   "metadata": {},
   "source": [
    "## Now that our dataset is ready we will create a neural network to give it the images"
   ]
  },
  {
   "cell_type": "code",
   "execution_count": 9,
   "metadata": {},
   "outputs": [],
   "source": [
    "model = neural_network()\n",
    "\n",
    "model = model.sequential(\n",
    "    [\n",
    "        Dense(reduced_images.shape[1] * reduced_images.shape[2],20,activations.relu()),\n",
    "        Dense(20,20,activations.relu()),\n",
    "        Dense(20,reduced_labels.shape[1],activations.softmax())\n",
    "    ]\n",
    ")"
   ]
  },
  {
   "cell_type": "code",
   "execution_count": 10,
   "metadata": {},
   "outputs": [
    {
     "data": {
      "text/plain": [
       "<network.neural_network at 0x2913af210>"
      ]
     },
     "execution_count": 10,
     "metadata": {},
     "output_type": "execute_result"
    }
   ],
   "source": [
    "model.compile(\n",
    "    optimizer=Optimizers.MiniBatchGradientDescent(),\n",
    "    Cost=losses.CategoricalCrossEntropy()\n",
    ")"
   ]
  },
  {
   "cell_type": "code",
   "execution_count": 11,
   "metadata": {},
   "outputs": [
    {
     "name": "stdout",
     "output_type": "stream",
     "text": [
      "Summary of the neural network\n",
      "\n",
      "--------------------------------------------------\n",
      "\n",
      "layer with 20 units, 784 inputs and ReLU activation function\n",
      "\n",
      "--------------------------------------------------\n",
      "\n",
      "layer with 20 units, 20 inputs and ReLU activation function\n",
      "\n",
      "--------------------------------------------------\n",
      "\n",
      "layer with 2 units, 20 inputs and Softmax activation function\n",
      "\n",
      "--------------------------------------------------\n",
      "\n",
      "input size : 784\n",
      "output size : 2\n",
      "optimizer : Mini-Batch Gradient Descent\n",
      "cost function : Categorical Cross Entropy\n"
     ]
    },
    {
     "data": {
      "text/plain": [
       "<network.neural_network at 0x2913af210>"
      ]
     },
     "execution_count": 11,
     "metadata": {},
     "output_type": "execute_result"
    }
   ],
   "source": [
    "model.summary()"
   ]
  },
  {
   "cell_type": "code",
   "execution_count": 12,
   "metadata": {},
   "outputs": [
    {
     "name": "stdout",
     "output_type": "stream",
     "text": [
      "0 cost : 1715.005016311098 accuracy : 99.42%\n",
      "10 cost : 94.09409380102719 accuracy : 99.81%\n",
      "20 cost : 60.73899734013207 accuracy : 99.87%\n",
      "30 cost : 47.79708515976127 accuracy : 99.9%\n",
      "40 cost : 40.46886748788263 accuracy : 99.91%\n",
      "50 cost : 35.506538520307615 accuracy : 99.91%\n",
      "60 cost : 31.77421252081065 accuracy : 99.94%\n",
      "70 cost : 28.758753631760648 accuracy : 99.94%\n",
      "80 cost : 26.219037465147053 accuracy : 99.94%\n",
      "90 cost : 24.015500920135104 accuracy : 99.94%\n",
      " cost : 22.26210445635384 accuracy : 99.94%\n"
     ]
    }
   ],
   "source": [
    "model,costs = model.fit(flattened,reduced_labels,learning_rate=0.0001,epochs=100)\n",
    "\n",
    "\n"
   ]
  },
  {
   "cell_type": "code",
   "execution_count": 37,
   "metadata": {},
   "outputs": [
    {
     "data": {
      "text/plain": [
       "[<matplotlib.lines.Line2D at 0x291b17b50>]"
      ]
     },
     "execution_count": 37,
     "metadata": {},
     "output_type": "execute_result"
    },
    {
     "data": {
      "image/png": "[encoded data removed]",
      "text/plain": [
       "<Figure size 640x480 with 1 Axes>"
      ]
     },
     "metadata": {},
     "output_type": "display_data"
    }
   ],
   "source": [
    "plt.plot(costs)"
   ]
  },
  {
   "cell_type": "code",
   "execution_count": 30,
   "metadata": {},
   "outputs": [],
   "source": [
    "predictions = model.predict(flattened)"
   ]
  },
  {
   "cell_type": "code",
   "execution_count": 31,
   "metadata": {},
   "outputs": [
    {
     "name": "stdout",
     "output_type": "stream",
     "text": [
      "accuracy : 99.94%\n"
     ]
    }
   ],
   "source": [
    "accuracy = (np.sum((predictions[:,0] == reduced_labels[:,0]).astype(int)) / reduced_labels.shape[0]) * 100\n",
    "print(f\"accuracy : {accuracy:.2f}%\")"
   ]
  },
  {
   "cell_type": "markdown",
   "metadata": {},
   "source": [
    "## see which images did the model predict incorrectly"
   ]
  },
  {
   "cell_type": "code",
   "execution_count": 35,
   "metadata": {},
   "outputs": [],
   "source": [
    "# get the indices of the wrong predictions\n",
    "wrong_indices = np.where(predictions[:,0] != reduced_labels[:,0])[0]"
   ]
  },
  {
   "cell_type": "code",
   "execution_count": 36,
   "metadata": {},
   "outputs": [],
   "source": [
    "# get the labels and images of the wrong ones\n",
    "wrong_images = reduced_images[wrong_indices]\n",
    "wrong_labels = reduced_labels[wrong_indices]\n"
   ]
  },
  {
   "cell_type": "code",
   "execution_count": 45,
   "metadata": {},
   "outputs": [
    {
     "data": {
      "image/png": "[encoded data removed]",
      "text/plain": [
       "<Figure size 2000x2000 with 9 Axes>"
      ]
     },
     "metadata": {},
     "output_type": "display_data"
    }
   ],
   "source": [
    "# we will plot each 3 images in a row\n",
    "\n",
    "# determine how many rows and columns we need\n",
    "rows = 3\n",
    "columns = np.ceil(wrong_indices.shape[0]/rows).astype(int)\n",
    "\n",
    "\n",
    "fig, axes = plt.subplots(rows, columns, figsize=(20, 20))\n",
    "index = 0\n",
    "for row in range(rows):\n",
    "    for col in range(columns):\n",
    "        if index == wrong_indices.shape[0]:\n",
    "            break\n",
    "        axes[row, col].imshow(wrong_images[index],cmap=\"gray\")\n",
    "        axes[row, col].set_title(f\"prediction: {(predictions[wrong_indices[index]][0] != 1).astype(int)} label: {(wrong_labels[index][0] != 1).astype(int)}\")\n",
    "        axes[row, col].axis('off')\n",
    "        index += 1"
   ]
  }
 ],
 "metadata": {
  "kernelspec": {
   "display_name": "neural-net",
   "language": "python",
   "name": "python3"
  },
  "language_info": {
   "codemirror_mode": {
    "name": "ipython",
    "version": 3
   },
   "file_extension": ".py",
   "mimetype": "text/x-python",
   "name": "python",
   "nbconvert_exporter": "python",
   "pygments_lexer": "ipython3",
   "version": "3.11.6"
  }
 },
 "nbformat": 4,
 "nbformat_minor": 2
}
