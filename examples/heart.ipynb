{
 "cells": [
  {
   "cell_type": "code",
   "execution_count": 1,
   "metadata": {},
   "outputs": [],
   "source": [
    "import numpy as np\n",
    "import matplotlib.pyplot as plt\n",
    "import csv\n",
    "from layer import layer\n",
    "from network import neural_network\n",
    "from sklearn.model_selection import train_test_split\n",
    "import Optimizers\n",
    "import loss_funcs as losses\n"
   ]
  },
  {
   "cell_type": "code",
   "execution_count": 2,
   "metadata": {},
   "outputs": [],
   "source": [
    "# load the data\n",
    "def load_data():\n",
    "    with open('data/heart.csv') as file:\n",
    "        reader = csv.reader(file)\n",
    "        headers = next(reader)\n",
    "        data = np.array(list(reader) , dtype= np.float64)\n",
    "# seperate input and labels\n",
    "# last column is the labels\n",
    "    Y = data[:,-1]\n",
    "    # remove labels from data\n",
    "    X = data[:,:-1]\n",
    "    # normalize the data\n",
    "    # i will be dividing each value with the max value in the column\n",
    "    X = X / X.max(axis=0)\n",
    "    return headers,X,Y\n"
   ]
  },
  {
   "cell_type": "code",
   "execution_count": 3,
   "metadata": {},
   "outputs": [],
   "source": [
    "# split data into train and test \n",
    "headers, X , Y = load_data()\n",
    "x_train , x_test,y_train,y_test = train_test_split(X,Y,test_size=0.2)\n",
    "\n",
    "# reshape lables arrays\n",
    "y_train = y_train.reshape(-1,1)\n",
    "y_test = y_test.reshape(-1,1)"
   ]
  },
  {
   "cell_type": "code",
   "execution_count": 4,
   "metadata": {},
   "outputs": [],
   "source": [
    "# define M and N for training samples\n",
    "M = x_train.shape[0]\n",
    "N = x_train.shape[1]"
   ]
  },
  {
   "cell_type": "code",
   "execution_count": 5,
   "metadata": {},
   "outputs": [
    {
     "data": {
      "text/plain": [
       "<network.neural_network at 0x1113b8610>"
      ]
     },
     "execution_count": 5,
     "metadata": {},
     "output_type": "execute_result"
    }
   ],
   "source": [
    "# create a model\n",
    "model = neural_network()\n",
    "\n",
    "# compile model\n",
    "model.compile(\n",
    "    optimizer=Optimizers.MiniBatchGradientDescent(),\n",
    "    Cost=losses.BinaryCrossEntropy()\n",
    ")\n",
    "\n",
    "# create the layers of the model\n",
    "model.sequential(\n",
    "    [\n",
    "        layer(N,10,\"relu\"),\n",
    "        layer(10,1,\"sigmoid\")\n",
    "    ]\n",
    ")"
   ]
  },
  {
   "cell_type": "code",
   "execution_count": 6,
   "metadata": {},
   "outputs": [
    {
     "name": "stdout",
     "output_type": "stream",
     "text": [
      "0 cost : 0.9470935552430088 accuracy : 50.41%\n",
      "1000 cost : 0.446643450673725 accuracy : 82.64%\n",
      "2000 cost : 0.40222257243010157 accuracy : 82.23%\n",
      "3000 cost : 0.38973169905654836 accuracy : 83.88%\n",
      "4000 cost : 0.39952099441100836 accuracy : 81.82%\n",
      "5000 cost : 0.3834883464205196 accuracy : 83.88%\n",
      "6000 cost : 0.3742621790059244 accuracy : 83.88%\n",
      "7000 cost : 0.3682720553278986 accuracy : 82.64%\n",
      "8000 cost : 0.36324900985650205 accuracy : 82.64%\n",
      "9000 cost : 0.3587488098117796 accuracy : 83.06%\n"
     ]
    }
   ],
   "source": [
    "# train the model\n",
    "model, costs = model.fit(x_train,y_train,0.0001,10000)"
   ]
  },
  {
   "cell_type": "code",
   "execution_count": 7,
   "metadata": {},
   "outputs": [
    {
     "data": {
      "text/plain": [
       "[<matplotlib.lines.Line2D at 0x1313fd5d0>]"
      ]
     },
     "execution_count": 7,
     "metadata": {},
     "output_type": "execute_result"
    },
    {
     "data": {
      "image/png": "[encoded data removed]",
      "text/plain": [
       "<Figure size 640x480 with 1 Axes>"
      ]
     },
     "metadata": {},
     "output_type": "display_data"
    }
   ],
   "source": [
    "plt.plot(costs)"
   ]
  },
  {
   "cell_type": "code",
   "execution_count": 8,
   "metadata": {},
   "outputs": [],
   "source": [
    "accuracy = ((x_test.shape[0] - np.sum((model.predict(x_test) != y_test).astype(int))) / x_test.shape[0] ) * 100"
   ]
  },
  {
   "cell_type": "code",
   "execution_count": 9,
   "metadata": {},
   "outputs": [
    {
     "data": {
      "text/plain": [
       "88.52459016393442"
      ]
     },
     "execution_count": 9,
     "metadata": {},
     "output_type": "execute_result"
    }
   ],
   "source": [
    "accuracy"
   ]
  }
 ],
 "metadata": {
  "kernelspec": {
   "display_name": "neural-net",
   "language": "python",
   "name": "python3"
  },
  "language_info": {
   "codemirror_mode": {
    "name": "ipython",
    "version": 3
   },
   "file_extension": ".py",
   "mimetype": "text/x-python",
   "name": "python",
   "nbconvert_exporter": "python",
   "pygments_lexer": "ipython3",
   "version": "3.11.6"
  }
 },
 "nbformat": 4,
 "nbformat_minor": 2
}
