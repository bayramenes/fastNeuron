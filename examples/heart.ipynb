{
 "cells": [
  {
   "cell_type": "code",
   "execution_count": 8,
   "metadata": {},
   "outputs": [],
   "source": [
    "import numpy as np\n",
    "import matplotlib.pyplot as plt\n",
    "import csv\n",
    "from fastNeuron.layers import Dense\n",
    "from fastNeuron.network import neural_network\n",
    "from sklearn.model_selection import train_test_split\n",
    "import fastNeuron.Optimizers as Optimizers\n",
    "import fastNeuron.loss_funcs as losses\n",
    "import fastNeuron.Activation_funcs as activations"
   ]
  },
  {
   "cell_type": "code",
   "execution_count": 9,
   "metadata": {},
   "outputs": [],
   "source": [
    "# load the data\n",
    "def load_data():\n",
    "    with open('data/heart.csv') as file:\n",
    "        reader = csv.reader(file)\n",
    "        headers = next(reader)\n",
    "        data = np.array(list(reader) , dtype= np.float64)\n",
    "# seperate input and labels\n",
    "# last column is the labels\n",
    "    Y = data[:,-1]\n",
    "    # remove labels from data\n",
    "    X = data[:,:-1]\n",
    "    # normalize the data\n",
    "    # i will be dividing each value with the max value in the column\n",
    "    X = X / X.max(axis=0)\n",
    "    return headers,X,Y\n"
   ]
  },
  {
   "cell_type": "code",
   "execution_count": 10,
   "metadata": {},
   "outputs": [],
   "source": [
    "# split data into train and test \n",
    "headers, X , Y = load_data()\n",
    "x_train , x_test,y_train,y_test = train_test_split(X,Y,test_size=0.2)\n",
    "\n",
    "# reshape lables arrays\n",
    "y_train = y_train.reshape(-1,1)\n",
    "y_test = y_test.reshape(-1,1)"
   ]
  },
  {
   "cell_type": "code",
   "execution_count": 11,
   "metadata": {},
   "outputs": [],
   "source": [
    "# define M and N for training samples\n",
    "M = x_train.shape[0]\n",
    "N = x_train.shape[1]"
   ]
  },
  {
   "cell_type": "code",
   "execution_count": 12,
   "metadata": {},
   "outputs": [
    {
     "data": {
      "text/plain": [
       "<fastNeuron.network.neural_network at 0x1766cfa90>"
      ]
     },
     "execution_count": 12,
     "metadata": {},
     "output_type": "execute_result"
    }
   ],
   "source": [
    "# create a model\n",
    "model = neural_network()\n",
    "\n",
    "# compile model\n",
    "model.compile(\n",
    "    optimizer=Optimizers.MiniBatchGradientDescent(),\n",
    "    Cost=losses.BinaryCrossEntropy()\n",
    ")\n",
    "\n",
    "# create the layers of the model\n",
    "model.sequential(\n",
    "    [\n",
    "        Dense(N,10,activations.relu()),\n",
    "        Dense(10,1,activations.sigmoid())\n",
    "    ]\n",
    ")"
   ]
  },
  {
   "cell_type": "code",
   "execution_count": 13,
   "metadata": {},
   "outputs": [
    {
     "name": "stdout",
     "output_type": "stream",
     "text": [
      "0 cost : 0.9815491200602355 accuracy : 48.35%\n",
      "1000 cost : 0.34406840351529117 accuracy : 86.36%\n",
      "2000 cost : 0.3261822465188724 accuracy : 87.19%\n",
      "3000 cost : 0.3071793769034897 accuracy : 86.78%\n",
      "4000 cost : 0.2919142281023214 accuracy : 86.78%\n",
      "5000 cost : 0.2836722837947203 accuracy : 88.43%\n",
      "6000 cost : 0.2770925439500318 accuracy : 90.08%\n",
      "7000 cost : 0.27111555676254306 accuracy : 90.91%\n",
      "8000 cost : 0.2650035963126686 accuracy : 90.5%\n",
      "9000 cost : 0.25942880157219517 accuracy : 91.32%\n",
      " cost : 0.2539736020762078 accuracy : 91.32%\n"
     ]
    }
   ],
   "source": [
    "# train the model\n",
    "model, costs = model.fit(x_train,y_train,0.0001,10000)"
   ]
  },
  {
   "cell_type": "code",
   "execution_count": 14,
   "metadata": {},
   "outputs": [
    {
     "data": {
      "text/plain": [
       "[<matplotlib.lines.Line2D at 0x1765e8d50>]"
      ]
     },
     "execution_count": 14,
     "metadata": {},
     "output_type": "execute_result"
    },
    {
     "data": {
      "image/png": "[encoded data removed]",
      "text/plain": [
       "<Figure size 640x480 with 1 Axes>"
      ]
     },
     "metadata": {},
     "output_type": "display_data"
    }
   ],
   "source": [
    "plt.plot(costs)"
   ]
  },
  {
   "cell_type": "code",
   "execution_count": 15,
   "metadata": {},
   "outputs": [],
   "source": [
    "accuracy = ((x_test.shape[0] - np.sum((model.predict(x_test) != y_test).astype(int))) / x_test.shape[0] ) * 100"
   ]
  },
  {
   "cell_type": "code",
   "execution_count": 16,
   "metadata": {},
   "outputs": [
    {
     "data": {
      "text/plain": [
       "80.32786885245902"
      ]
     },
     "execution_count": 16,
     "metadata": {},
     "output_type": "execute_result"
    }
   ],
   "source": [
    "accuracy"
   ]
  },
  {
   "cell_type": "code",
   "execution_count": null,
   "metadata": {},
   "outputs": [],
   "source": []
  }
 ],
 "metadata": {
  "kernelspec": {
   "display_name": "neural-net",
   "language": "python",
   "name": "python3"
  },
  "language_info": {
   "codemirror_mode": {
    "name": "ipython",
    "version": 3
   },
   "file_extension": ".py",
   "mimetype": "text/x-python",
   "name": "python",
   "nbconvert_exporter": "python",
   "pygments_lexer": "ipython3",
   "version": "3.11.6"
  }
 },
 "nbformat": 4,
 "nbformat_minor": 2
}
