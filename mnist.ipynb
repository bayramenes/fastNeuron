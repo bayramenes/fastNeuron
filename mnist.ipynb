{
 "cells": [
  {
   "cell_type": "code",
   "execution_count": 1,
   "metadata": {},
   "outputs": [],
   "source": [
    "import numpy as np\n",
    "import matplotlib.pyplot as plt\n",
    "\n",
    "from network import neural_network\n",
    "from layers import Dense\n",
    "import Activation_funcs as activations\n",
    "import Optimizers\n",
    "from sklearn.model_selection import train_test_split\n",
    "import loss_funcs as losses\n"
   ]
  },
  {
   "cell_type": "markdown",
   "metadata": {},
   "source": [
    "## Data PreProcessing\n",
    "\n",
    "\n",
    "#### we will get all of our images and labels loaded from tensorflow\n"
   ]
  },
  {
   "cell_type": "code",
   "execution_count": 2,
   "metadata": {},
   "outputs": [],
   "source": [
    "def preprocess():\n",
    "    import tensorflow_datasets as tfds\n",
    "    # load mnist\n",
    "    ds = tfds.load('mnist', split='train')\n",
    "    # convert to numpy array\n",
    "    # as_numpy() gives them as an iterator of dictionaries\n",
    "    # where each dictionary has a key 'image' and 'label'\n",
    "    images = []\n",
    "    lables = []\n",
    "    for ex in tfds.as_numpy(ds):\n",
    "        images.append(ex['image'])\n",
    "        lables.append(ex['label'])\n",
    "\n",
    "    # convert all labels to be one hot encoding\n",
    "    from tensorflow.keras.utils import to_categorical\n",
    "    one_hot_labels = to_categorical(lables)\n",
    "    # images is a list of numpy arrays so will change it\n",
    "    # to a multi-dimensional numpy array\n",
    "    images = np.array(images)\n",
    "    # return the result\n",
    "    return images,one_hot_labels\n"
   ]
  },
  {
   "cell_type": "code",
   "execution_count": 3,
   "metadata": {},
   "outputs": [
    {
     "name": "stderr",
     "output_type": "stream",
     "text": [
      "/Users/enesbayram/Documents/nn/neural-net/lib/python3.11/site-packages/tqdm/auto.py:21: TqdmWarning: IProgress not found. Please update jupyter and ipywidgets. See https://ipywidgets.readthedocs.io/en/stable/user_install.html\n",
      "  from .autonotebook import tqdm as notebook_tqdm\n"
     ]
    }
   ],
   "source": [
    "IMAGES , LABELS = preprocess()"
   ]
  },
  {
   "cell_type": "markdown",
   "metadata": {},
   "source": [
    "### lastly we have to flatten the data and normalize it os that it can be fed to the neural network"
   ]
  },
  {
   "cell_type": "code",
   "execution_count": 4,
   "metadata": {},
   "outputs": [],
   "source": [
    "# first lets shuffle the two lists\n",
    "shuffler = np.arange(IMAGES.shape[0])\n",
    "np.random.shuffle(shuffler)\n",
    "IMAGES = IMAGES[shuffler]\n",
    "LABELS = LABELS[shuffler]\n"
   ]
  },
  {
   "cell_type": "code",
   "execution_count": 5,
   "metadata": {},
   "outputs": [],
   "source": [
    "# next lets flatten all of the images\n",
    "flattened = IMAGES.reshape(IMAGES.shape[0],IMAGES.shape[1] * IMAGES.shape[2])\n"
   ]
  },
  {
   "cell_type": "code",
   "execution_count": 6,
   "metadata": {},
   "outputs": [],
   "source": [
    "# lastly lets normalize the values\n",
    "flattened = flattened / 255"
   ]
  },
  {
   "cell_type": "code",
   "execution_count": 7,
   "metadata": {},
   "outputs": [
    {
     "name": "stderr",
     "output_type": "stream",
     "text": [
      "/var/folders/fg/hzkwf1ld12x62mjy6qd9gxsm0000gn/T/ipykernel_98321/2076896645.py:14: DeprecationWarning: Conversion of an array with ndim > 0 to a scalar is deprecated, and will error in future. Ensure you extract a single element from your array before performing this operation. (Deprecated NumPy 1.25.)\n",
      "  axes[row,col].set_title(f\"Label: {int(np.where(LABELS[index] == 1)[0])}\")\n"
     ]
    },
    {
     "data": {
      "image/png": "[encoded data removed]",
      "text/plain": [
       "<Figure size 800x600 with 12 Axes>"
      ]
     },
     "metadata": {},
     "output_type": "display_data"
    }
   ],
   "source": [
    "# lets see some images and make sure that labels are correct\n",
    "image_count = 10\n",
    "rows = 3\n",
    "columns = np.ceil(image_count/rows).astype(int)\n",
    "fig, axes = plt.subplots(rows,columns,figsize=(columns*2,rows*2))\n",
    "index = 0\n",
    "fig.tight_layout()\n",
    "for row in range(rows):\n",
    "    for col in range(columns):\n",
    "        if index == image_count:\n",
    "            break\n",
    "        axes[row,col].axis('off')\n",
    "        axes[row,col].imshow(IMAGES[index],cmap='gray')\n",
    "        axes[row,col].set_title(f\"Label: {int(np.where(LABELS[index] == 1)[0])}\")\n",
    "        index += 1"
   ]
  },
  {
   "cell_type": "markdown",
   "metadata": {},
   "source": [
    "### Now that the data is ready lets create a neural network"
   ]
  },
  {
   "cell_type": "code",
   "execution_count": 8,
   "metadata": {},
   "outputs": [],
   "source": [
    "model = neural_network()\n",
    "\n",
    "model = model.sequential(\n",
    "    [\n",
    "        Dense(flattened.shape[1],20,activations.relu()),\n",
    "        Dense(20,20,activations.relu()),\n",
    "        Dense(20,LABELS.shape[1],activations.softmax())\n",
    "    ]\n",
    ")"
   ]
  },
  {
   "cell_type": "code",
   "execution_count": 9,
   "metadata": {},
   "outputs": [
    {
     "data": {
      "text/plain": [
       "<network.neural_network at 0x2972b90d0>"
      ]
     },
     "execution_count": 9,
     "metadata": {},
     "output_type": "execute_result"
    }
   ],
   "source": [
    "model.compile(\n",
    "    optimizer=Optimizers.MiniBatchGradientDescent(),\n",
    "    Cost=losses.CategoricalCrossEntropy()\n",
    ")"
   ]
  },
  {
   "cell_type": "code",
   "execution_count": 10,
   "metadata": {},
   "outputs": [
    {
     "name": "stdout",
     "output_type": "stream",
     "text": [
      "Summary of the neural network\n",
      "\n",
      "--------------------------------------------------\n",
      "\n",
      "layer with 20 units, 784 inputs and ReLU activation function\n",
      "\n",
      "--------------------------------------------------\n",
      "\n",
      "layer with 20 units, 20 inputs and ReLU activation function\n",
      "\n",
      "--------------------------------------------------\n",
      "\n",
      "layer with 10 units, 20 inputs and Softmax activation function\n",
      "\n",
      "--------------------------------------------------\n",
      "\n",
      "input size : 784\n",
      "output size : 10\n",
      "optimizer : Mini-Batch Gradient Descent\n",
      "cost function : Categorical Cross Entropy\n"
     ]
    },
    {
     "data": {
      "text/plain": [
       "<network.neural_network at 0x2972b90d0>"
      ]
     },
     "execution_count": 10,
     "metadata": {},
     "output_type": "execute_result"
    }
   ],
   "source": [
    "model.summary()"
   ]
  },
  {
   "cell_type": "code",
   "execution_count": 11,
   "metadata": {},
   "outputs": [
    {
     "name": "stdout",
     "output_type": "stream",
     "text": [
      "0 cost : 73102.08878123699 accuracy : 67.88%\n",
      "20 cost : 13896.718219591017 accuracy : 93.38%\n",
      "40 cost : 10013.103401019278 accuracy : 95.26%\n",
      "60 cost : 8097.518309127872 accuracy : 96.19%\n",
      "80 cost : 6915.020511440621 accuracy : 96.7%\n",
      "100 cost : 6057.898662937073 accuracy : 97.12%\n",
      "120 cost : 5434.218762196892 accuracy : 97.4%\n",
      "140 cost : 4927.014691995915 accuracy : 97.65%\n",
      "160 cost : 4507.735623062826 accuracy : 97.82%\n",
      "180 cost : 4209.059767760832 accuracy : 97.95%\n",
      " cost : 3966.2003100269594 accuracy : 98.04%\n"
     ]
    }
   ],
   "source": [
    "model , costs = model.fit(flattened,LABELS,learning_rate=0.0001,epochs=200)"
   ]
  },
  {
   "cell_type": "code",
   "execution_count": 17,
   "metadata": {},
   "outputs": [
    {
     "data": {
      "text/plain": [
       "[<matplotlib.lines.Line2D at 0x2979e3e50>]"
      ]
     },
     "execution_count": 17,
     "metadata": {},
     "output_type": "execute_result"
    },
    {
     "data": {
      "image/png": "[encoded data removed]",
      "text/plain": [
       "<Figure size 640x480 with 1 Axes>"
      ]
     },
     "metadata": {},
     "output_type": "display_data"
    }
   ],
   "source": [
    "plt.plot(costs)"
   ]
  },
  {
   "cell_type": "code",
   "execution_count": 18,
   "metadata": {},
   "outputs": [],
   "source": [
    "predictions = np.argmax(model.predict(flattened),axis=1)\n",
    "labels_sparse = np.argmax(LABELS,axis=1)"
   ]
  },
  {
   "cell_type": "code",
   "execution_count": 19,
   "metadata": {},
   "outputs": [
    {
     "name": "stdout",
     "output_type": "stream",
     "text": [
      "accuracy : 98.05%\n"
     ]
    }
   ],
   "source": [
    "accuracy = (np.sum((predictions == labels_sparse).astype(int)) / LABELS.shape[0]) * 100\n",
    "print(f\"accuracy : {accuracy:.2f}%\")"
   ]
  },
  {
   "cell_type": "markdown",
   "metadata": {},
   "source": [
    "## see which imaged did themodel predict incorrectly"
   ]
  },
  {
   "cell_type": "code",
   "execution_count": 20,
   "metadata": {},
   "outputs": [],
   "source": [
    "wrong_indices = np.where(predictions != labels_sparse)[0]"
   ]
  },
  {
   "cell_type": "code",
   "execution_count": 21,
   "metadata": {},
   "outputs": [
    {
     "data": {
      "text/plain": [
       "(1173,)"
      ]
     },
     "execution_count": 21,
     "metadata": {},
     "output_type": "execute_result"
    }
   ],
   "source": [
    "wrong_indices.shape"
   ]
  },
  {
   "cell_type": "code",
   "execution_count": null,
   "metadata": {},
   "outputs": [],
   "source": []
  }
 ],
 "metadata": {
  "kernelspec": {
   "display_name": "neural-net",
   "language": "python",
   "name": "python3"
  },
  "language_info": {
   "codemirror_mode": {
    "name": "ipython",
    "version": 3
   },
   "file_extension": ".py",
   "mimetype": "text/x-python",
   "name": "python",
   "nbconvert_exporter": "python",
   "pygments_lexer": "ipython3",
   "version": "3.11.6"
  }
 },
 "nbformat": 4,
 "nbformat_minor": 2
}
