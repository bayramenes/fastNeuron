{
 "cells": [
  {
   "cell_type": "code",
   "execution_count": 1,
   "metadata": {},
   "outputs": [],
   "source": [
    "from sklearn import datasets\n",
    "from layer import layer\n",
    "import numpy as np\n",
    "from network import neural_network"
   ]
  },
  {
   "cell_type": "code",
   "execution_count": 2,
   "metadata": {},
   "outputs": [],
   "source": [
    "\n",
    "\n",
    "# # generate random data\n",
    "DATA, LABELS = datasets.make_classification(n_samples = 1000\n",
    "                            ,n_features = 2\n",
    "                            ,n_informative = 2\n",
    "                            ,n_redundant = 0\n",
    "                            ,n_clusters_per_class = 1\n",
    "                            ,flip_y = 0\n",
    "                            ,class_sep = 2\n",
    "                            ,random_state = 7\n",
    "                           )\n",
    "\n",
    "LABELS = np.reshape(LABELS,newshape=(LABELS.shape[0],1))\n",
    "\n",
    "M = DATA.shape[0]\n",
    "N = DATA.shape[1]"
   ]
  },
  {
   "cell_type": "code",
   "execution_count": 3,
   "metadata": {},
   "outputs": [],
   "source": [
    "model  = neural_network()\n",
    "model  = model.sequential(\n",
    "    [\n",
    "        layer(2,3,\"sigmoid\"),\n",
    "        layer(3,1,\"sigmoid\")\n",
    "    ]\n",
    ")"
   ]
  },
  {
   "cell_type": "code",
   "execution_count": 4,
   "metadata": {},
   "outputs": [],
   "source": [
    "outputs = model.forward(DATA)"
   ]
  },
  {
   "cell_type": "code",
   "execution_count": 5,
   "metadata": {},
   "outputs": [
    {
     "data": {
      "text/plain": [
       "(1000, 1)"
      ]
     },
     "execution_count": 5,
     "metadata": {},
     "output_type": "execute_result"
    }
   ],
   "source": [
    "outputs.shape"
   ]
  },
  {
   "cell_type": "code",
   "execution_count": 6,
   "metadata": {},
   "outputs": [
    {
     "name": "stdout",
     "output_type": "stream",
     "text": [
      "self.outputs[index].shape:(1000, 3)\n",
      "propogated through layer1\n",
      "self.outputs[index].shape:(1000, 2)\n",
      "propogated through layer0\n"
     ]
    }
   ],
   "source": [
    "wgrads , bgrads = model.backward(outputs - LABELS)"
   ]
  },
  {
   "cell_type": "code",
   "execution_count": 7,
   "metadata": {},
   "outputs": [
    {
     "data": {
      "text/plain": [
       "[array([[  -0.29742308,  111.44053793,  162.60935919],\n",
       "        [   3.55616482, -105.88476098, -192.28510721]]),\n",
       " array([[-377.43985938],\n",
       "        [ -74.96141471],\n",
       "        [ -60.70292396]])]"
      ]
     },
     "execution_count": 7,
     "metadata": {},
     "output_type": "execute_result"
    }
   ],
   "source": [
    "wgrads"
   ]
  },
  {
   "cell_type": "code",
   "execution_count": 8,
   "metadata": {},
   "outputs": [
    {
     "data": {
      "text/plain": [
       "[array([-1.35002025, 49.5865363 , 64.85141264]), array([-325.50062512])]"
      ]
     },
     "execution_count": 8,
     "metadata": {},
     "output_type": "execute_result"
    }
   ],
   "source": [
    "bgrads"
   ]
  },
  {
   "cell_type": "code",
   "execution_count": null,
   "metadata": {},
   "outputs": [],
   "source": []
  }
 ],
 "metadata": {
  "kernelspec": {
   "display_name": "neural-net",
   "language": "python",
   "name": "python3"
  },
  "language_info": {
   "codemirror_mode": {
    "name": "ipython",
    "version": 3
   },
   "file_extension": ".py",
   "mimetype": "text/x-python",
   "name": "python",
   "nbconvert_exporter": "python",
   "pygments_lexer": "ipython3",
   "version": "3.11.6"
  }
 },
 "nbformat": 4,
 "nbformat_minor": 2
}
