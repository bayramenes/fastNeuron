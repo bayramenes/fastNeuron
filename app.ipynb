{
 "cells": [
  {
   "cell_type": "code",
   "execution_count": 1,
   "metadata": {},
   "outputs": [],
   "source": [
    "from sklearn import datasets\n",
    "from layer import layer\n",
    "import numpy as np"
   ]
  },
  {
   "cell_type": "code",
   "execution_count": 2,
   "metadata": {},
   "outputs": [],
   "source": [
    "\n",
    "def sigmoid(z):\n",
    "    return 1/(1+np.exp(-z))"
   ]
  },
  {
   "cell_type": "code",
   "execution_count": 31,
   "metadata": {},
   "outputs": [],
   "source": [
    "\n",
    "\n",
    "# # generate random data\n",
    "DATA, LABELS = datasets.make_classification(n_samples = 1000\n",
    "                            ,n_features = 2\n",
    "                            ,n_informative = 2\n",
    "                            ,n_redundant = 0\n",
    "                            ,n_clusters_per_class = 1\n",
    "                            ,flip_y = 0\n",
    "                            ,class_sep = 2\n",
    "                            ,random_state = 7\n",
    "                           )\n",
    "\n",
    "LABELS = np.reshape(LABELS,newshape=(LABELS.shape[0],1))\n",
    "\n",
    "M = DATA.shape[0]\n",
    "N = DATA.shape[1]"
   ]
  },
  {
   "cell_type": "code",
   "execution_count": 32,
   "metadata": {},
   "outputs": [],
   "source": [
    "l_0 = layer(input_size=2,units=3,activation=\"sigmoid\")\n",
    "l_1 = layer(input_size=3, units=1,activation=\"sigmoid\")"
   ]
  },
  {
   "cell_type": "code",
   "execution_count": 33,
   "metadata": {},
   "outputs": [
    {
     "data": {
      "text/plain": [
       "(1000, 2)"
      ]
     },
     "execution_count": 33,
     "metadata": {},
     "output_type": "execute_result"
    }
   ],
   "source": [
    "DATA.shape"
   ]
  },
  {
   "cell_type": "code",
   "execution_count": 34,
   "metadata": {},
   "outputs": [],
   "source": [
    "A_0 = l_0.forward(DATA)"
   ]
  },
  {
   "cell_type": "code",
   "execution_count": 35,
   "metadata": {},
   "outputs": [
    {
     "data": {
      "text/plain": [
       "array([[9.92383120e-01, 9.57326775e-01, 9.76736601e-01],\n",
       "       [9.78120553e-01, 8.85182585e-01, 9.31668566e-01],\n",
       "       [1.95965238e-01, 9.15079112e-02, 1.03071823e-01],\n",
       "       ...,\n",
       "       [9.88725083e-01, 9.26544860e-01, 9.59861271e-01],\n",
       "       [9.89772054e-01, 9.44262091e-01, 9.68863452e-01],\n",
       "       [1.83234027e-04, 5.11645142e-02, 1.21390144e-02]])"
      ]
     },
     "execution_count": 35,
     "metadata": {},
     "output_type": "execute_result"
    }
   ],
   "source": [
    "A_0"
   ]
  },
  {
   "cell_type": "code",
   "execution_count": 36,
   "metadata": {},
   "outputs": [
    {
     "data": {
      "text/plain": [
       "(1000, 3)"
      ]
     },
     "execution_count": 36,
     "metadata": {},
     "output_type": "execute_result"
    }
   ],
   "source": [
    "A_0.shape"
   ]
  },
  {
   "cell_type": "code",
   "execution_count": 37,
   "metadata": {},
   "outputs": [],
   "source": [
    "A_1 = l_1.forward(A_0)"
   ]
  },
  {
   "cell_type": "code",
   "execution_count": 41,
   "metadata": {},
   "outputs": [],
   "source": [
    "COST = -1 / M * np.sum(LABELS * np.log(A_1) + (1 - LABELS) * np.log(1 - A_1))"
   ]
  },
  {
   "cell_type": "code",
   "execution_count": 55,
   "metadata": {},
   "outputs": [],
   "source": [
    "# derivative of cost function d(cost) / d(z_l) (i.e. the derivative up until the last layer before multiplying by the inputs)\n",
    "# turn out to be : 1 / M * (output - LABELS) after that we can propogate back to the previous layer and so on\n",
    "l_1_initial_derivative = 1 / M * (A_1 - LABELS)"
   ]
  },
  {
   "cell_type": "code",
   "execution_count": 56,
   "metadata": {},
   "outputs": [],
   "source": [
    "l_1_wgrads = A_0.T @ l_1_initial_derivative"
   ]
  },
  {
   "cell_type": "code",
   "execution_count": 82,
   "metadata": {},
   "outputs": [],
   "source": [
    "l_1_bgrads = np.sum(l_1_initial_derivative,axis= 0,)"
   ]
  },
  {
   "cell_type": "code",
   "execution_count": 66,
   "metadata": {},
   "outputs": [],
   "source": [
    "# A_0 * ( 1 - A_0 ) is the derivative of the sigmoid function with respect to the input\n",
    "l_0_initial_derivative = l_1_initial_derivative * l_1.weights.T * A_0 * ( 1 - A_0 )"
   ]
  },
  {
   "cell_type": "code",
   "execution_count": 76,
   "metadata": {},
   "outputs": [
    {
     "data": {
      "text/plain": [
       "(1000, 3)"
      ]
     },
     "execution_count": 76,
     "metadata": {},
     "output_type": "execute_result"
    }
   ],
   "source": [
    "l_0_initial_derivative.shape"
   ]
  },
  {
   "cell_type": "code",
   "execution_count": 71,
   "metadata": {},
   "outputs": [],
   "source": [
    "l_0_wgrads  = DATA.T @ l_0_initial_derivative"
   ]
  },
  {
   "cell_type": "code",
   "execution_count": 86,
   "metadata": {},
   "outputs": [],
   "source": [
    "l_0_bgrads = np.sum(l_0_initial_derivative , axis = 0)"
   ]
  },
  {
   "cell_type": "code",
   "execution_count": 87,
   "metadata": {},
   "outputs": [
    {
     "data": {
      "text/plain": [
       "array([-0.00162351, -0.01348231,  0.00627324])"
      ]
     },
     "execution_count": 87,
     "metadata": {},
     "output_type": "execute_result"
    }
   ],
   "source": [
    "l_0_bgrads"
   ]
  },
  {
   "cell_type": "code",
   "execution_count": 88,
   "metadata": {},
   "outputs": [
    {
     "data": {
      "text/plain": [
       "array([[-0.00203204, -0.06696677,  0.02197419],\n",
       "       [ 0.00507629,  0.06771886, -0.02782218]])"
      ]
     },
     "execution_count": 88,
     "metadata": {},
     "output_type": "execute_result"
    }
   ],
   "source": [
    "l_0_wgrads"
   ]
  },
  {
   "cell_type": "code",
   "execution_count": null,
   "metadata": {},
   "outputs": [],
   "source": []
  }
 ],
 "metadata": {
  "kernelspec": {
   "display_name": "neural-net",
   "language": "python",
   "name": "python3"
  },
  "language_info": {
   "codemirror_mode": {
    "name": "ipython",
    "version": 3
   },
   "file_extension": ".py",
   "mimetype": "text/x-python",
   "name": "python",
   "nbconvert_exporter": "python",
   "pygments_lexer": "ipython3",
   "version": "3.11.6"
  }
 },
 "nbformat": 4,
 "nbformat_minor": 2
}
