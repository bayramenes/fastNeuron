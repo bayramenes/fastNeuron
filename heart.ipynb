{
 "cells": [
  {
   "cell_type": "code",
   "execution_count": 1,
   "metadata": {},
   "outputs": [],
   "source": [
    "import numpy as np\n",
    "import matplotlib.pyplot as plt\n",
    "import csv\n",
    "from layer import layer\n",
    "from network import neural_network\n",
    "from sklearn.model_selection import train_test_split\n"
   ]
  },
  {
   "cell_type": "code",
   "execution_count": 2,
   "metadata": {},
   "outputs": [],
   "source": [
    "# load the data\n",
    "import csv\n",
    "def load_data():\n",
    "    with open('data/heart.csv') as file:\n",
    "        reader = csv.reader(file)\n",
    "        headers = next(reader)\n",
    "        data = np.array(list(reader) , dtype= np.float64)\n",
    "# seperate input and labels\n",
    "# last column is the labels\n",
    "    Y = data[:,-1]\n",
    "    # remove labels from data\n",
    "    X = data[:,:-1]\n",
    "    # normalize the data\n",
    "    # i will be dividing each value with the max value in the column\n",
    "    X = X / X.max(axis=0)\n",
    "    return headers,X,Y\n"
   ]
  },
  {
   "cell_type": "code",
   "execution_count": 3,
   "metadata": {},
   "outputs": [],
   "source": [
    "# split data into train and test \n",
    "headers, X , Y = load_data()\n",
    "x_train , x_test,y_train,y_test = train_test_split(X,Y,test_size=0.2)\n",
    "\n",
    "# reshape lables arrays\n",
    "y_train = y_train.reshape(-1,1)\n",
    "y_test = y_test.reshape(-1,1)"
   ]
  },
  {
   "cell_type": "code",
   "execution_count": 4,
   "metadata": {},
   "outputs": [],
   "source": [
    "# define M and N for training samples\n",
    "M = x_train.shape[0]\n",
    "N = x_train.shape[1]"
   ]
  },
  {
   "cell_type": "code",
   "execution_count": 5,
   "metadata": {},
   "outputs": [
    {
     "data": {
      "text/plain": [
       "<network.neural_network at 0x17ab00410>"
      ]
     },
     "execution_count": 5,
     "metadata": {},
     "output_type": "execute_result"
    }
   ],
   "source": [
    "# create a model\n",
    "model = neural_network()\n",
    "\n",
    "# create the layers of the model\n",
    "model.sequential(\n",
    "    [\n",
    "        layer(N,1,\"sigmoid\"),\n",
    "        # layer(20,1,\"sigmoid\")\n",
    "    ]\n",
    ")"
   ]
  },
  {
   "cell_type": "code",
   "execution_count": 6,
   "metadata": {},
   "outputs": [
    {
     "name": "stdout",
     "output_type": "stream",
     "text": [
      "M : 242\n",
      "M//10 : 30000\n",
      "M//100 : 3000\n",
      "0 cost : 0.7797400522619228 accuracy : 58.26%\n",
      "30000 cost : 0.35672671191361005 accuracy : 84.3%\n",
      "60000 cost : 0.35041284714146154 accuracy : 84.71%\n",
      "90000 cost : 0.34755530539248664 accuracy : 84.3%\n",
      "120000 cost : 0.3458998088250604 accuracy : 84.3%\n",
      "150000 cost : 0.344829230612415 accuracy : 84.3%\n",
      "180000 cost : 0.344100115735336 accuracy : 84.3%\n",
      "210000 cost : 0.3435906377991017 accuracy : 84.3%\n",
      "240000 cost : 0.3432294861298244 accuracy : 83.88%\n",
      "270000 cost : 0.34297108066789334 accuracy : 83.88%\n",
      " cost : 0.3428009306297078 accuracy : 83.47%\n"
     ]
    }
   ],
   "source": [
    "# train the model\n",
    "model, costs = model.fit(x_train,y_train,0.012,300000)"
   ]
  },
  {
   "cell_type": "code",
   "execution_count": 7,
   "metadata": {},
   "outputs": [
    {
     "data": {
      "text/plain": [
       "[<matplotlib.lines.Line2D at 0x17abb9550>]"
      ]
     },
     "execution_count": 7,
     "metadata": {},
     "output_type": "execute_result"
    },
    {
     "data": {
      "image/png": "[encoded data removed]",
      "text/plain": [
       "<Figure size 640x480 with 1 Axes>"
      ]
     },
     "metadata": {},
     "output_type": "display_data"
    }
   ],
   "source": [
    "plt.plot(costs)"
   ]
  },
  {
   "cell_type": "code",
   "execution_count": 8,
   "metadata": {},
   "outputs": [],
   "source": [
    "accuracy = ((x_test.shape[0] - np.sum((model.predict(x_test) != y_test).astype(int))) / x_test.shape[0] ) * 100"
   ]
  },
  {
   "cell_type": "code",
   "execution_count": 9,
   "metadata": {},
   "outputs": [
    {
     "data": {
      "text/plain": [
       "83.60655737704919"
      ]
     },
     "execution_count": 9,
     "metadata": {},
     "output_type": "execute_result"
    }
   ],
   "source": [
    "accuracy"
   ]
  },
  {
   "cell_type": "code",
   "execution_count": null,
   "metadata": {},
   "outputs": [],
   "source": []
  }
 ],
 "metadata": {
  "kernelspec": {
   "display_name": "neural-net",
   "language": "python",
   "name": "python3"
  },
  "language_info": {
   "codemirror_mode": {
    "name": "ipython",
    "version": 3
   },
   "file_extension": ".py",
   "mimetype": "text/x-python",
   "name": "python",
   "nbconvert_exporter": "python",
   "pygments_lexer": "ipython3",
   "version": "3.11.6"
  }
 },
 "nbformat": 4,
 "nbformat_minor": 2
}
